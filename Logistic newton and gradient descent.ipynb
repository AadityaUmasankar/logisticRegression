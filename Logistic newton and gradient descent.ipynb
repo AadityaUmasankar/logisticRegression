{
 "cells": [
  {
   "cell_type": "code",
   "execution_count": 10,
   "metadata": {},
   "outputs": [
    {
     "name": "stdout",
     "output_type": "stream",
     "text": [
      "(400, 7)\n",
      "(400, 1)\n"
     ]
    }
   ],
   "source": [
    "import numpy as np\n",
    "\n",
    "from numpy import genfromtxt\n",
    "\n",
    "#np.set_printoptions(threshold = 10)\n",
    "my_data = genfromtxt(\"Admission_Predict.csv\",delimiter = ',')\n",
    "\n",
    "my_data = np.delete(my_data,0,0)\n",
    "\n",
    "my_data = np.delete(my_data,8,1)\n",
    "my_data = np.delete(my_data,0,1)\n",
    "\n",
    "\n",
    "X = my_data[:,[0,1,2,3,4,5]]\n",
    "Y = my_data[:,[6]]\n",
    "\n",
    "#print(my_data.shape)\n",
    "\n",
    "\n",
    "bias = np.matrix(np.ones(len(Y))).T\n",
    "\n",
    "#print(bias.shape)\n",
    "\n",
    "X = np.append(bias,X,axis=1)\n",
    "\n",
    "\n",
    "print(X.shape)\n",
    "print(Y.shape)\n",
    "\n",
    "\n",
    "#beta = np.matrix(np.zeros(X.shape[1])).T\n",
    "\n",
    "#print(beta.shape)\n",
    "\n"
   ]
  },
  {
   "cell_type": "code",
   "execution_count": 11,
   "metadata": {},
   "outputs": [],
   "source": [
    "def grad(beta):\n",
    "    return X.T * (np.exp(X*beta) / (1+np.exp(X*beta)) -Y)\n"
   ]
  },
  {
   "cell_type": "code",
   "execution_count": 24,
   "metadata": {},
   "outputs": [
    {
     "data": {
      "text/plain": [
       "0.1"
      ]
     },
     "execution_count": 24,
     "metadata": {},
     "output_type": "execute_result"
    }
   ],
   "source": [
    " np.power(10.,-1)"
   ]
  },
  {
   "cell_type": "code",
   "execution_count": 45,
   "metadata": {},
   "outputs": [
    {
     "name": "stdout",
     "output_type": "stream",
     "text": [
      "iter = 500000\n",
      "[[-0.1178375 ]\n",
      " [-0.01091583]\n",
      " [-0.01858457]\n",
      " [ 0.54741648]\n",
      " [ 0.42739589]\n",
      " [ 0.21733048]\n",
      " [ 0.22666238]]\n",
      "norm = 3.4328927684771777\n"
     ]
    }
   ],
   "source": [
    "beta = np.matrix(np.zeros(X.shape[1])).T\n",
    "TOL = np.power(10.,-1)\n",
    "lam = 0.0000001\n",
    "counter = 0\n",
    "\n",
    "while np.linalg.norm(grad(beta)) > TOL and counter < 500000:\n",
    "  counter += 1\n",
    "  beta = beta - lam*grad(beta)\n",
    "  \n",
    "    \n",
    "print('iter =',counter)\n",
    "print(beta)\n",
    "print('norm =',np.linalg.norm(grad(beta)))"
   ]
  },
  {
   "cell_type": "code",
   "execution_count": 52,
   "metadata": {},
   "outputs": [],
   "source": [
    "beta1 = beta.copy()"
   ]
  },
  {
   "cell_type": "code",
   "execution_count": 53,
   "metadata": {},
   "outputs": [
    {
     "data": {
      "text/plain": [
       "matrix([[-0.1178375 ],\n",
       "        [-0.01091583],\n",
       "        [-0.01858457],\n",
       "        [ 0.54741648],\n",
       "        [ 0.42739589],\n",
       "        [ 0.21733048],\n",
       "        [ 0.22666238]])"
      ]
     },
     "execution_count": 53,
     "metadata": {},
     "output_type": "execute_result"
    }
   ],
   "source": [
    "beta1\n"
   ]
  },
  {
   "cell_type": "code",
   "execution_count": 56,
   "metadata": {},
   "outputs": [],
   "source": [
    "def grad2(beta):\n",
    "  return X.T*(np.diag(np.ravel(np.exp(X*beta)/np.power(1+np.exp(X*beta),2)))*X)"
   ]
  },
  {
   "cell_type": "code",
   "execution_count": 60,
   "metadata": {},
   "outputs": [
    {
     "name": "stdout",
     "output_type": "stream",
     "text": [
      "iter = 1\n",
      "[[-3.96834126e+01]\n",
      " [ 1.25185191e-01]\n",
      " [-3.55622726e-02]\n",
      " [ 6.78416557e-02]\n",
      " [ 2.95565677e-01]\n",
      " [ 1.22241339e-01]\n",
      " [ 2.90656520e-01]]\n",
      "norm = 5.30718951225822e-11\n"
     ]
    }
   ],
   "source": [
    "beta =beta1\n",
    "TOL = np.power(10.,-10)\n",
    "counter = 0\n",
    "\n",
    "while np.linalg.norm(grad(beta)) > TOL:\n",
    "  counter += 1\n",
    "  beta -= np.linalg.inv(grad2(beta))*grad(beta)\n",
    "  \n",
    "print('iter =',counter)\n",
    "print(beta)\n",
    "print('norm =',np.linalg.norm(grad(beta)))"
   ]
  },
  {
   "cell_type": "code",
   "execution_count": null,
   "metadata": {},
   "outputs": [],
   "source": []
  }
 ],
 "metadata": {
  "kernelspec": {
   "display_name": "Python 3",
   "language": "python",
   "name": "python3"
  },
  "language_info": {
   "codemirror_mode": {
    "name": "ipython",
    "version": 3
   },
   "file_extension": ".py",
   "mimetype": "text/x-python",
   "name": "python",
   "nbconvert_exporter": "python",
   "pygments_lexer": "ipython3",
   "version": "3.6.3"
  }
 },
 "nbformat": 4,
 "nbformat_minor": 2
}
